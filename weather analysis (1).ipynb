{
 "cells": [
  {
   "cell_type": "code",
   "execution_count": 1,
   "id": "f4c37341",
   "metadata": {},
   "outputs": [],
   "source": [
    "import pandas as pd\n",
    "import matplotlib.pyplot as plt\n",
    "import seaborn as sns\n"
   ]
  },
  {
   "cell_type": "code",
   "execution_count": 2,
   "id": "2677581f",
   "metadata": {},
   "outputs": [],
   "source": [
    "# the dataset is in a CSV file\n",
    "weather_data = pd.read_csv('weather analysis.csv')\n"
   ]
  },
  {
   "cell_type": "code",
   "execution_count": 3,
   "id": "57b868cc",
   "metadata": {},
   "outputs": [
    {
     "name": "stdout",
     "output_type": "stream",
     "text": [
      "<class 'pandas.core.frame.DataFrame'>\n",
      "RangeIndex: 366 entries, 0 to 365\n",
      "Data columns (total 22 columns):\n",
      " #   Column         Non-Null Count  Dtype  \n",
      "---  ------         --------------  -----  \n",
      " 0   MinTemp        366 non-null    float64\n",
      " 1   MaxTemp        366 non-null    float64\n",
      " 2   Rainfall       366 non-null    float64\n",
      " 3   Evaporation    357 non-null    float64\n",
      " 4   Sunshine       360 non-null    object \n",
      " 5   WindGustDir    364 non-null    object \n",
      " 6   WindGustSpeed  340 non-null    object \n",
      " 7   WindDir9am     360 non-null    object \n",
      " 8   WindDir3pm     362 non-null    object \n",
      " 9   WindSpeed9am   363 non-null    float64\n",
      " 10  WindSpeed3pm   366 non-null    int64  \n",
      " 11  Humidity9am    366 non-null    int64  \n",
      " 12  Humidity3pm    366 non-null    float64\n",
      " 13  Pressure9am    366 non-null    float64\n",
      " 14  Pressure3pm    366 non-null    float64\n",
      " 15  Cloud9am       366 non-null    int64  \n",
      " 16  Cloud3pm       366 non-null    float64\n",
      " 17  Temp9am        366 non-null    float64\n",
      " 18  Temp3pm        366 non-null    object \n",
      " 19  RainToday      366 non-null    object \n",
      " 20  RISK_MM        155 non-null    float64\n",
      " 21  RainTomorrow   155 non-null    object \n",
      "dtypes: float64(11), int64(3), object(8)\n",
      "memory usage: 63.0+ KB\n",
      "None\n",
      "   MinTemp  MaxTemp  Rainfall  Evaporation Sunshine WindGustDir WindGustSpeed  \\\n",
      "0      8.0     24.3       0.0          3.4      6.3          NW            30   \n",
      "1     14.0     26.9       3.6          4.4      9.7         ENE            39   \n",
      "2     13.7     23.4       3.6          5.8      3.3          NW            85   \n",
      "3     13.3     15.5      39.8          7.2      9.1          NW            54   \n",
      "4      7.6     16.1       2.8          5.6     10.6         SSE            50   \n",
      "\n",
      "  WindDir9am WindDir3pm  WindSpeed9am  ...  Humidity3pm  Pressure9am  \\\n",
      "0         SW         NW           6.0  ...         29.0       1019.7   \n",
      "1          E          W           4.0  ...         36.0       1012.4   \n",
      "2          N        NNE           6.0  ...         69.0       1009.5   \n",
      "3        WNW          W          30.0  ...         56.0       1005.5   \n",
      "4        SSE        ESE          20.0  ...         49.0       1018.3   \n",
      "\n",
      "   Pressure3pm  Cloud9am  Cloud3pm  Temp9am  Temp3pm  RainToday RISK_MM  \\\n",
      "0       1015.0         7       7.0     14.4     23.6         No     3.6   \n",
      "1       1008.4         5       3.0     17.5     25.7        Yes     3.6   \n",
      "2       1007.2         8       7.0     15.4     20.2        Yes    39.8   \n",
      "3       1007.0         2       7.0     13.5     14.1        Yes     2.8   \n",
      "4       1018.5         7       7.0     11.1     15.4        Yes     0.0   \n",
      "\n",
      "  RainTomorrow  \n",
      "0          Yes  \n",
      "1          Yes  \n",
      "2          Yes  \n",
      "3          Yes  \n",
      "4           No  \n",
      "\n",
      "[5 rows x 22 columns]\n"
     ]
    }
   ],
   "source": [
    "# Display basic information about the dataset\n",
    "print(weather_data.info())\n",
    "\n",
    "# Display the first few rows of the dataset\n",
    "print(weather_data.head())\n"
   ]
  },
  {
   "cell_type": "code",
   "execution_count": 4,
   "id": "3f083136",
   "metadata": {},
   "outputs": [
    {
     "name": "stdout",
     "output_type": "stream",
     "text": [
      "          MinTemp     MaxTemp    Rainfall  Evaporation  WindSpeed9am  \\\n",
      "count  366.000000  366.000000  366.000000   357.000000    363.000000   \n",
      "mean     7.265574   20.550273    1.428415     6.900840     15.082645   \n",
      "std      6.025800    6.690516    4.225800     2.825053      9.547138   \n",
      "min     -5.300000    7.600000    0.000000     0.000000      0.000000   \n",
      "25%      2.300000   15.025000    0.000000     5.200000      7.000000   \n",
      "50%      7.450000   19.650000    0.000000     7.100000     13.000000   \n",
      "75%     12.500000   25.500000    0.200000     9.000000     22.000000   \n",
      "max     20.900000   35.800000   39.800000    13.600000     52.000000   \n",
      "\n",
      "       WindSpeed3pm  Humidity9am  Humidity3pm  Pressure9am  Pressure3pm  \\\n",
      "count    366.000000   366.000000   366.000000   366.000000   366.000000   \n",
      "mean      49.355191    56.136612   607.241803  1017.990984   431.368579   \n",
      "std       30.820196    18.494069   484.951811     6.111328   499.678413   \n",
      "min        4.000000    13.000000    14.000000   996.500000     0.000000   \n",
      "25%       17.000000    43.000000    43.250000  1013.925000     2.000000   \n",
      "50%       56.500000    58.000000  1015.000000  1018.250000     7.000000   \n",
      "75%       76.750000    70.000000  1024.075000  1022.375000  1012.800000   \n",
      "max       99.000000    97.000000  1035.700000  1033.200000  1024.200000   \n",
      "\n",
      "         Cloud9am    Cloud3pm     Temp9am     RISK_MM  \n",
      "count  366.000000  366.000000  366.000000  155.000000  \n",
      "mean     3.904372    7.019399   16.144809    2.176774  \n",
      "std      2.852374    4.339835    4.316183    5.572752  \n",
      "min      0.000000    0.000000    5.100000    0.000000  \n",
      "25%      1.000000    4.000000   13.300000    0.000000  \n",
      "50%      4.000000    7.000000   16.200000    0.000000  \n",
      "75%      7.000000    8.900000   18.775000    0.700000  \n",
      "max      8.000000   23.800000   30.000000   39.800000  \n"
     ]
    }
   ],
   "source": [
    "# Display basic statistics of numerical columns\n",
    "print(weather_data.describe())\n"
   ]
  },
  {
   "cell_type": "code",
   "execution_count": 13,
   "id": "7056b92c",
   "metadata": {},
   "outputs": [
    {
     "name": "stdout",
     "output_type": "stream",
     "text": [
      "                  Mean  Median  Standard Deviation\n",
      "MinTemp       7.265574    7.45            6.025800\n",
      "MaxTemp      20.550273   19.65            6.690516\n",
      "Rainfall      1.428415    0.00            4.225800\n",
      "Evaporation   6.900840    7.10            2.825053\n"
     ]
    }
   ],
   "source": [
    "# Select relevant columns\n",
    "selected_columns = ['MinTemp', 'MaxTemp', 'Rainfall', 'Evaporation']\n",
    "selected_data = weather_data[selected_columns]\n",
    "\n",
    "# Compute basic statistics\n",
    "statistics = selected_data.describe().loc[['mean', '50%', 'std']].transpose()\n",
    "\n",
    "# Rename the columns for clarity\n",
    "statistics.columns = ['Mean', 'Median', 'Standard Deviation']\n",
    "\n",
    "# Display the computed statistics\n",
    "print(statistics)\n"
   ]
  },
  {
   "cell_type": "code",
   "execution_count": 48,
   "id": "0254981f",
   "metadata": {},
   "outputs": [
    {
     "data": {
      "image/png": "[encoded data removed]",
      "text/plain": [
       "<Figure size 576x432 with 2 Axes>"
      ]
     },
     "metadata": {
      "needs_background": "light"
     },
     "output_type": "display_data"
    }
   ],
   "source": [
    "# Select relevant columns for correlation analysis\n",
    "correlation_columns = ['MinTemp', 'MaxTemp', 'Rainfall', 'Evaporation']\n",
    "\n",
    "# Calculate the correlation matrix.\n",
    "# Uses the \"corr\" method to compute the pairwise correlation coefficients between the selected columns.\n",
    "correlation_matrix = weather_data[correlation_columns].corr()\n",
    "\n",
    "# Create a heatmap for visualization\n",
    "plt.figure(figsize=(8, 6))\n",
    "sns.heatmap(correlation_matrix, annot=True, cmap='RdYlBu', fmt='.2f', linewidths=.5)\n",
    "plt.title('Correlation Heatmap')\n",
    "plt.show()\n"
   ]
  },
  {
   "cell_type": "code",
   "execution_count": null,
   "id": "704cef2d",
   "metadata": {},
   "outputs": [],
   "source": []
  }
 ],
 "metadata": {
  "kernelspec": {
   "display_name": "Python 3 (ipykernel)",
   "language": "python",
   "name": "python3"
  },
  "language_info": {
   "codemirror_mode": {
    "name": "ipython",
    "version": 3
   },
   "file_extension": ".py",
   "mimetype": "text/x-python",
   "name": "python",
   "nbconvert_exporter": "python",
   "pygments_lexer": "ipython3",
   "version": "3.9.7"
  }
 },
 "nbformat": 4,
 "nbformat_minor": 5
}
